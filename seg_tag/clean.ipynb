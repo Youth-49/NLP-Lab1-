{
 "cells": [
  {
   "cell_type": "code",
   "execution_count": 9,
   "source": [
    "import re\r\n",
    "path = 'data199801.txt'\r\n",
    "f = open('wordpieces.txt','w',encoding='utf-8')\r\n",
    "g = open('sequence.txt','w', encoding='utf-8')\r\n",
    "num_line = 0\r\n",
    "num_seq = 0\r\n",
    "num_word = 0\r\n",
    "with open(path,encoding='utf-8') as file:\r\n",
    "    for line in file:\r\n",
    "        cnt = 0\r\n",
    "        line = line.strip().split('  ')\r\n",
    "        num_line = num_line + 1\r\n",
    "        if line == ['']:\r\n",
    "            continue\r\n",
    "        line = line[1:]\r\n",
    "        if '贵乎/v 理/n' in line:\r\n",
    "            print(line)\r\n",
    "        for item in line:\r\n",
    "            cnt = cnt + 1\r\n",
    "            f.write(item+'\\n')\r\n",
    "        num_seq = num_seq + 1\r\n",
    "        num_word = num_word+cnt\r\n",
    "        g.write(str(cnt)+'\\n')\r\n",
    "\r\n",
    "print(num_word, num_line, num_seq)"
   ],
   "outputs": [
    {
     "output_type": "stream",
     "name": "stdout",
     "text": [
      "1121447 23062 19484\n"
     ]
    }
   ],
   "metadata": {}
  }
 ],
 "metadata": {
  "orig_nbformat": 4,
  "language_info": {
   "name": "python",
   "version": "3.8.8",
   "mimetype": "text/x-python",
   "codemirror_mode": {
    "name": "ipython",
    "version": 3
   },
   "pygments_lexer": "ipython3",
   "nbconvert_exporter": "python",
   "file_extension": ".py"
  },
  "kernelspec": {
   "name": "python3",
   "display_name": "Python 3.8.8 64-bit ('base': conda)"
  },
  "interpreter": {
   "hash": "b3ba2566441a7c06988d0923437866b63cedc61552a5af99d1f4fb67d367b25f"
  }
 },
 "nbformat": 4,
 "nbformat_minor": 2
}